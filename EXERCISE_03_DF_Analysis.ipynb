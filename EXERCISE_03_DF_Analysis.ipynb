{
  "cells": [
    {
      "cell_type": "markdown",
      "metadata": {
        "id": "view-in-github",
        "colab_type": "text"
      },
      "source": [
        "<a href=\"https://colab.research.google.com/github/isj0/DataAnalysis-Python/blob/main/EXERCISE_03_DF_Analysis.ipynb\" target=\"_parent\"><img src=\"https://colab.research.google.com/assets/colab-badge.svg\" alt=\"Open In Colab\"/></a>"
      ]
    },
    {
      "cell_type": "markdown",
      "id": "04b3f624",
      "metadata": {
        "id": "04b3f624"
      },
      "source": [
        "# DataFrame Analysis Exercise\n",
        "\n",
        "**Import the `bestsellers.csv` dataset and use it to answer the following questions:**\n",
        "\n",
        "* Find the lowest User Rating in the DF\n",
        "* Find the highest Price in the DF\n",
        "* What is the average User Rating?\n",
        "* What the average User Rating of the first 5 rows?\n",
        "* What User Review score appeared the most?\n",
        "* What is the total (sum) of all the values in the Reviews column?\n",
        "* How many different authors are featured in the dataset?\n",
        "* Which author wrote the most number of books on the list?  How many did they write?"
      ]
    }
  ],
  "metadata": {
    "kernelspec": {
      "display_name": "Python 3",
      "language": "python",
      "name": "python3"
    },
    "language_info": {
      "codemirror_mode": {
        "name": "ipython",
        "version": 3
      },
      "file_extension": ".py",
      "mimetype": "text/x-python",
      "name": "python",
      "nbconvert_exporter": "python",
      "pygments_lexer": "ipython3",
      "version": "3.8.8"
    },
    "colab": {
      "provenance": [],
      "include_colab_link": true
    }
  },
  "nbformat": 4,
  "nbformat_minor": 5
}