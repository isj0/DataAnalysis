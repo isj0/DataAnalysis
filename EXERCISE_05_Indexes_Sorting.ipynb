{
  "cells": [
    {
      "cell_type": "markdown",
      "metadata": {
        "id": "view-in-github",
        "colab_type": "text"
      },
      "source": [
        "<a href=\"https://colab.research.google.com/github/isj0/DataAnalysis-Python/blob/main/EXERCISE_05_Indexes_Sorting.ipynb\" target=\"_parent\"><img src=\"https://colab.research.google.com/assets/colab-badge.svg\" alt=\"Open In Colab\"/></a>"
      ]
    },
    {
      "cell_type": "markdown",
      "id": "c1b8d622",
      "metadata": {
        "id": "c1b8d622"
      },
      "source": [
        "# Indexes & Sorting Exercise"
      ]
    },
    {
      "cell_type": "markdown",
      "id": "c035bc21",
      "metadata": {
        "id": "c035bc21"
      },
      "source": [
        "## Part 1\n",
        "* Import the `pokemon.csv` dataset\n",
        "* Make the Name column the index (do it in place on the original DataFrame!)\n",
        "\n",
        "\n",
        "\n"
      ]
    },
    {
      "cell_type": "code",
      "execution_count": null,
      "id": "48ca4df1",
      "metadata": {
        "id": "48ca4df1"
      },
      "outputs": [],
      "source": []
    },
    {
      "cell_type": "markdown",
      "id": "9f7d9aef",
      "metadata": {
        "id": "9f7d9aef"
      },
      "source": [
        "## Part 2\n",
        "* Sort the pokemon by the Attack column, from highest to lowest\n",
        "* Sort the pokemon by the Num column, from lowest to highest, in place.\n",
        "* Sort the pokemon by the Total column AND the Attack column (in that order!) from highest to lowest\n",
        "* Sort the pokemon by their index, from lowest to highest, in place (From A-Z)"
      ]
    },
    {
      "cell_type": "code",
      "execution_count": null,
      "id": "27154af1",
      "metadata": {
        "id": "27154af1"
      },
      "outputs": [],
      "source": []
    },
    {
      "cell_type": "markdown",
      "id": "f5dcca7f",
      "metadata": {
        "id": "f5dcca7f"
      },
      "source": [
        "## Part 3\n",
        "\n",
        "* Find the average Speed of the 10 pokemon with the highest Speed.\n",
        "* Of the top 20 pokemon with the highest Attack values, what is the most common value for \"Type 1\"?"
      ]
    },
    {
      "cell_type": "code",
      "execution_count": null,
      "id": "0bc65b99",
      "metadata": {
        "id": "0bc65b99"
      },
      "outputs": [],
      "source": []
    },
    {
      "cell_type": "markdown",
      "id": "1a9f77ea",
      "metadata": {
        "id": "1a9f77ea"
      },
      "source": [
        "## Part 4\n",
        "* Retrieve the row with the index label of \"Diglett\"\n",
        "* Retrieve the rows for the two fox-like Pokemon: Eevee and Vulpix\n",
        "* Make sure your DataFrame is sorted by index (A-Z).  Retrieve the rows from Charizard to Charmeleon.  You should get three rows back.\n",
        "* Retrieve the 30th, 40th, and 50th rows by position."
      ]
    },
    {
      "cell_type": "code",
      "execution_count": null,
      "id": "8f0810a4",
      "metadata": {
        "id": "8f0810a4"
      },
      "outputs": [],
      "source": []
    },
    {
      "cell_type": "markdown",
      "id": "d92b0186",
      "metadata": {
        "id": "d92b0186"
      },
      "source": [
        "## Part 5\n",
        "* Retrieve the rows of the fish-like Pokemon.  Use this list to make it easier:\n",
        "```py\n",
        "fish_pokemon = [\"Magikarp\", \"Goldeen\",\"Horsea\", \"Seaking\", \"Seadra\",\"Gyarados\"]\n",
        "```"
      ]
    },
    {
      "cell_type": "code",
      "execution_count": null,
      "id": "12139e41",
      "metadata": {
        "id": "12139e41"
      },
      "outputs": [],
      "source": []
    },
    {
      "cell_type": "markdown",
      "id": "8b19513e",
      "metadata": {
        "id": "8b19513e"
      },
      "source": [
        "## Part 6\n",
        "\n",
        "* Create this bar chart that shows the Attack values for the above fish-like Pokemon.  Pay attention to the sorting!!\n",
        "<div>\n",
        "<img src=\"attachment:fish_plot.png\" width=\"400\"/>\n",
        "</div>"
      ]
    },
    {
      "cell_type": "code",
      "execution_count": null,
      "id": "ef1d9c3d",
      "metadata": {
        "id": "ef1d9c3d"
      },
      "outputs": [],
      "source": []
    }
  ],
  "metadata": {
    "kernelspec": {
      "display_name": "Python 3",
      "language": "python",
      "name": "python3"
    },
    "language_info": {
      "codemirror_mode": {
        "name": "ipython",
        "version": 3
      },
      "file_extension": ".py",
      "mimetype": "text/x-python",
      "name": "python",
      "nbconvert_exporter": "python",
      "pygments_lexer": "ipython3",
      "version": "3.8.8"
    },
    "colab": {
      "provenance": [],
      "include_colab_link": true
    }
  },
  "nbformat": 4,
  "nbformat_minor": 5
}