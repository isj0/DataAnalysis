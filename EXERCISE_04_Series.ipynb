{
  "cells": [
    {
      "cell_type": "markdown",
      "metadata": {
        "id": "view-in-github",
        "colab_type": "text"
      },
      "source": [
        "<a href=\"https://colab.research.google.com/github/isj0/DataAnalysis-Python/blob/main/EXERCISE_04_Series.ipynb\" target=\"_parent\"><img src=\"https://colab.research.google.com/assets/colab-badge.svg\" alt=\"Open In Colab\"/></a>"
      ]
    },
    {
      "cell_type": "markdown",
      "id": "fd53be39",
      "metadata": {
        "id": "fd53be39"
      },
      "source": [
        "# Series Basics Exercise\n",
        "\n",
        "**Work with the `bestsellers.csv` dataset to answer the following questions:**"
      ]
    },
    {
      "cell_type": "markdown",
      "id": "bf9e627e",
      "metadata": {
        "id": "bf9e627e"
      },
      "source": [
        "## Part 1\n",
        "* Retrieve a series that contains the book Names\n",
        "* Retrieve a series that contains the User Ratings\n",
        "* Retrieve the first 8 Authors"
      ]
    },
    {
      "cell_type": "code",
      "execution_count": null,
      "id": "aafe3c0c",
      "metadata": {
        "id": "aafe3c0c"
      },
      "outputs": [],
      "source": []
    },
    {
      "cell_type": "markdown",
      "id": "2f778d1b",
      "metadata": {
        "id": "2f778d1b"
      },
      "source": [
        "## Part 2\n",
        "* Find the unique Genres\n",
        "* Find the number of unique Authors\n",
        "* Find the average Price\n",
        "* Find the 10 highest prices"
      ]
    },
    {
      "cell_type": "code",
      "execution_count": null,
      "id": "e78d09d2",
      "metadata": {
        "id": "e78d09d2"
      },
      "outputs": [],
      "source": []
    },
    {
      "cell_type": "markdown",
      "id": "0df37adf",
      "metadata": {
        "id": "0df37adf"
      },
      "source": [
        "## Part 3\n",
        "* Find the top 3 most common book titles in the dataset\n",
        "* Create a new dataframe with only Author and User Rating.\n",
        "* Using the new dataframe, find the most common combination of Author and User Rating Score."
      ]
    },
    {
      "cell_type": "code",
      "execution_count": null,
      "id": "b5b1cde1",
      "metadata": {
        "id": "b5b1cde1"
      },
      "outputs": [],
      "source": []
    },
    {
      "cell_type": "markdown",
      "id": "ab43956b",
      "metadata": {
        "id": "ab43956b"
      },
      "source": [
        "## Part 4\n",
        "* Create a pie chart showing the total number of times each Genre appears in the dataset.\n",
        "* Find out the top 10 most prolific authors and plot their number of books as a bar plot\n",
        "* BONUS: create a histogram showing the distribution of User Rating scores"
      ]
    },
    {
      "cell_type": "code",
      "execution_count": null,
      "id": "a0b7b790",
      "metadata": {
        "id": "a0b7b790"
      },
      "outputs": [],
      "source": []
    }
  ],
  "metadata": {
    "kernelspec": {
      "display_name": "Python 3",
      "language": "python",
      "name": "python3"
    },
    "language_info": {
      "codemirror_mode": {
        "name": "ipython",
        "version": 3
      },
      "file_extension": ".py",
      "mimetype": "text/x-python",
      "name": "python",
      "nbconvert_exporter": "python",
      "pygments_lexer": "ipython3",
      "version": "3.8.8"
    },
    "colab": {
      "provenance": [],
      "include_colab_link": true
    }
  },
  "nbformat": 4,
  "nbformat_minor": 5
}